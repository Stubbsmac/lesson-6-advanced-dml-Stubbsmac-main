{
    "metadata": {
        "kernelspec": {
            "name": "SQL",
            "display_name": "SQL",
            "language": "sql"
        },
        "language_info": {
            "name": "sql",
            "version": ""
        }
    },
    "nbformat_minor": 2,
    "nbformat": 4,
    "cells": [
        {
            "cell_type": "markdown",
            "source": [
                "# Advanced Data Manipulation Language\n",
                "\n",
                "## **Getting Started**\n",
                "\n",
                "This week we will be learning more about Data Manipulation Language, as well as some SQL key words that will make our scripts more usable and secure.\n",
                "\n",
                "## **Transactions**\n",
                "\n",
                "When scripting DML operations we can use _transactions_ to to ensure that DML operations are executed as a single unit of work. Transactions follow the ACID properties:\n",
                "\n",
                "- Atomicity- Ensures that all operations within a transaction are copmleted succesfully. If any operation fails, the entire transaction is rolled back, and the database remains unchanged.\n",
                "- Consistency- Ensures that a transaction brings the database from one valid state to another valid state. The database must remain in a consistent state before and after the transaction.\n",
                "- Isolation- Ensures that the operations of a transaction are isolated from the other transactions. Transactions are executed in sucha. way that they appear to be running in isolation from one another.\n",
                "- Durability- Ensures that once a transaction has been committed, it will remain so, even in the event of a system failure. The changes made by the transaction are permanently recorded in the database.\n",
                "\n",
                "To start a transcation, we use the keyword BEGIN. When ending a transcation we use either COMMIT or ROLLBACK depending on if the operation was succesful. In the below cell we are adding a record to the airline table, and then adding a flight for that airline to the flight table."
            ],
            "metadata": {
                "azdata_cell_guid": "10310b7d-425a-4c6a-a81a-59e7c7e4846a"
            },
            "attachments": {}
        },
        {
            "cell_type": "code",
            "source": [
                "BEGIN TRANSACTION;\n",
                "\n",
                "--Insert row into airline\n",
                "INSERT INTO ap_airline VALUES (8,'Super-Air-ior');\n",
                "\n",
                "--Insert row in flights\n",
                "INSERT INTO ap_flight VALUES (9,8,'SU872','Seattle');\n",
                "\n",
                "COMMIT;"
            ],
            "metadata": {
                "azdata_cell_guid": "5e11a5ca-309d-4d74-b15b-83489965ee51",
                "language": "sql"
            },
            "outputs": [],
            "execution_count": null
        },
        {
            "cell_type": "code",
            "source": [
                "--View both tables to see the new data\n",
                "SELECT * FROM ap_airline\n",
                "SELECT * FROM ap_flight"
            ],
            "metadata": {
                "language": "sql",
                "azdata_cell_guid": "f3ea5a58-7f9a-414a-91ea-32b42ecde14d"
            },
            "outputs": [],
            "execution_count": null
        },
        {
            "cell_type": "markdown",
            "source": [
                "We can see that both queries were executed succesfully. Please note the below differences when writing transactions compared to the SQL we have been using so far:\n",
                "\n",
                "- Each line of code ends with a semi-colon ;\n",
                "- Each line is commented to describe it's purpose\n",
                "- We start with BEGIN TRANSACTION and end with COMMIT\n",
                "\n",
                "While this may not seem that different than what we have done in the past, writing our queries in this way makes them more _secure._ The below query is written to generate an error. We are going to perform the same two operations that we did before, however, this time we will be inserting a record in the flight table an incorrect data type."
            ],
            "metadata": {
                "language": "sql",
                "azdata_cell_guid": "997524cd-9933-44d6-802a-04993ce4bd52"
            },
            "attachments": {}
        },
        {
            "cell_type": "code",
            "source": [
                "BEGIN TRANSACTION;\n",
                "\n",
                "--Insert row into airline\n",
                "INSERT INTO ap_airline VALUES (9,'Air Air Air');\n",
                "\n",
                "--Insert row in flights\n",
                "INSERT INTO ap_flight VALUES (10,'k','AA345','Denver'); --'k' is an invalid value for airline_id\n",
                "\n",
                "COMMIT;"
            ],
            "metadata": {
                "language": "sql",
                "azdata_cell_guid": "4168bacc-8f6e-451c-ad39-12e3b397933e"
            },
            "outputs": [],
            "execution_count": null
        },
        {
            "cell_type": "code",
            "source": [
                "--View both tables to see what happened\n",
                "SELECT * FROM ap_airline\n",
                "SELECT * FROM ap_flight"
            ],
            "metadata": {
                "language": "sql",
                "azdata_cell_guid": "b504123a-8eea-4ff0-be7c-d0a466ce0089",
                "tags": []
            },
            "outputs": [],
            "execution_count": null
        },
        {
            "cell_type": "markdown",
            "source": [
                "After viewing both tables you may notice that even though the record for ap\\_airline was valid, and the output said that 1 row was affected, the record is not present. This is because the changes to the ap\\_airline table were rolled back when a later query in the transaction failed. This is a security measure so that processes are not able to be half-executed. The transaction either completes succesfully or is cancelled.\n",
                "\n",
                "While the syntax for writing transactions is a little different than what we have donoe previously, the syntax of our DML queries stay the same. We are just wrapping them into a container that ensures proper execution."
            ],
            "metadata": {
                "language": "sql",
                "azdata_cell_guid": "dde8ea8a-538d-415e-a39e-f09f72be84d6"
            },
            "attachments": {}
        },
        {
            "cell_type": "markdown",
            "source": [
                "## **Error Handling**\n",
                "\n",
                "SQL has error handling tools similar to other programming languages that you may have used before. Transactions are one type of error handling. Another error handling tool we will be learning about is TRY/CATCH. The TRY keyword denotes script that the system will _try_ to run. If there is a problem, the CATCH keyword denotes the script that will be ran once an error occurs. TRY/CATCH can be a powerful tool for building SQL scripts that have clear outputs and secure data manipulation. The below cell implements a TRY/CATCH with a DML transcation that is built to fail:"
            ],
            "metadata": {
                "language": "sql",
                "azdata_cell_guid": "a624d863-e941-4cde-b19a-11ee22900106"
            },
            "attachments": {}
        },
        {
            "cell_type": "code",
            "source": [
                "BEGIN TRANSACTION;\n",
                "    BEGIN TRY\n",
                "        --Insert a new record into passport\n",
                "        INSERT INTO ap_passport VALUES (6,'P87654',10); --insert a passport record for customer_id 10. There is no customer_id 10 in the customer table\n",
                "        --Commit the transaction if there are no errors\n",
                "        COMMIT;\n",
                "    END TRY\n",
                "    BEGIN CATCH\n",
                "        --Roll back the transaction if an error occurs\n",
                "        ROLLBACK\n",
                "        PRINT 'An error occured, the transaction was rolled back.'\n",
                "    END CATCH"
            ],
            "metadata": {
                "language": "sql",
                "azdata_cell_guid": "d7e94baf-747e-4e4a-94cb-5771b9d1ea93"
            },
            "outputs": [],
            "execution_count": null
        },
        {
            "cell_type": "markdown",
            "source": [
                "Here is a breakdown of how the above cell executes:\n",
                "\n",
                "1. Transaction begins\n",
                "2. They system attempts to run the INSERT statement\n",
                "3. The statement fails because it is trying to insert a value for a FK that does not exist in the referenced table (customer)\n",
                "4. Due to the failure, the cocde execution is deferred to the CATCH block\n",
                "5. The command to rollback the transaction is cancelled\n",
                "6. The PRINT keyword gives feedback to the user about what happened\n",
                "\n",
                "The indetion of each block is not required, but is best practice and should be used to assist with readability. In the below cell is a similar operation where the transaction can execute without errors:"
            ],
            "metadata": {
                "azdata_cell_guid": "895649a4-5ffe-4e44-9a80-abd97f8ebb78"
            },
            "attachments": {}
        },
        {
            "cell_type": "code",
            "source": [
                "BEGIN TRANSACTION;\n",
                "    BEGIN TRY\n",
                "        --Insert new record into customer\n",
                "        INSERT INTO ap_customer VALUES (10,'Mike','Willstone','2000-12-10');\n",
                "        --Insert new record into passport\n",
                "        INSERT INTO ap_passport VALUES (6,'P3732',10);\n",
                "        --Insert new record into boarding pass:\n",
                "        INSERT INTO ap_boarding_pass VALUES (5,10,1,'BP45678906545678');\n",
                "        --Output confirmation of success\n",
                "        PRINT 'Sucessfully inserted data into customer, passport, and flight'\n",
                "        --Commit data to database\n",
                "        COMMIT;\n",
                "    END TRY\n",
                "    BEGIN CATCH\n",
                "        --Output error message\n",
                "        PRINT 'Error Message: ' + ERROR_MESSAGE();\n",
                "        --Rollback transactions on error\n",
                "        ROLLBACK;\n",
                "    END CATCH"
            ],
            "metadata": {
                "azdata_cell_guid": "75ccc29c-d6ba-4b09-8702-36c25e6868b2",
                "language": "sql"
            },
            "outputs": [],
            "execution_count": null
        },
        {
            "cell_type": "markdown",
            "source": [
                "Upon running the above cell, you are returned the message indicating successful insertion of our data.\n",
                "\n",
                "  \n",
                "\n",
                "Run the above cell again. You will notice that the message from the CATCH block containing the error is output instead. We can include the error that caused the CATCH to be triggered by using the ERROR\\_MESSAGE() function, like above.\n",
                "\n",
                "## **JOINS and Subqueries in DML**\n",
                "\n",
                "Sometimes we will need information from another table to perform our DML operations. In these instances we can use JOINs and subqueries to make our DML scripts more powerful. In the below example we will join boarding\\_pass to customer to delete a boarding pass for a specific customer using their name."
            ],
            "metadata": {
                "language": "sql",
                "azdata_cell_guid": "02a49c30-433f-477b-affb-8d04ba78f0e8"
            },
            "attachments": {}
        },
        {
            "cell_type": "code",
            "source": [
                "BEGIN TRANSACTION;\n",
                "    BEGIN TRY\n",
                "        --DELETE record from boarding_pass table based on customer name\n",
                "        DELETE bp\n",
                "        FROM ap_boarding_pass bp --DELETE queries don't allow AS for aliases, so you just put the alias after the table without AS\n",
                "        JOIN ap_customer c ON bp.customer_id = c.customer_id\n",
                "        WHERE c.first_name = 'Michael' AND c.last_name = 'Brown';\n",
                "        --Commit change\n",
                "        COMMIT;\n",
                "    END TRY\n",
                "    BEGIN CATCH\n",
                "        --Output error message\n",
                "        PRINT 'Error Message ' + ERROR_MESSAGE();\n",
                "        --Rollback transaction\n",
                "        ROLLBACK;\n",
                "    END CATCH;"
            ],
            "metadata": {
                "language": "sql",
                "azdata_cell_guid": "000b0839-c46c-4f87-a8b8-42534f53ccc9"
            },
            "outputs": [],
            "execution_count": null
        },
        {
            "cell_type": "markdown",
            "source": [
                "While we could have accomplished the above query by specifying the customer\\_id and not using a JOIN, we won't always know information like the id, and users almost never will. Building scripts like this makes them more user friendly and easier to work with. Below is an example where we do the same thing using a subquery instead of a JOIN. Zero rows will be affected because we already deleted this customer in the previous query. Note that this does not resolve in an error, there is just no action taken."
            ],
            "metadata": {
                "language": "sql",
                "azdata_cell_guid": "4e530f4a-6905-4e40-b4ec-ab443c961cb3"
            },
            "attachments": {}
        },
        {
            "cell_type": "code",
            "source": [
                "BEGIN TRANSACTION;\n",
                "    BEGIN TRY\n",
                "        --DELETE record from boarding_pass table based on customer name\n",
                "        DELETE bp\n",
                "        FROM ap_boarding_pass bp\n",
                "        WHERE bp.customer_id IN (\n",
                "            --Select the customer_id that matches the name we are searching for\n",
                "            SELECT c.customer_id\n",
                "            FROM ap_customer c\n",
                "            WHERE c.first_name = 'Michael' AND c.last_name = 'Brown'\n",
                "        );\n",
                "        --Commit change\n",
                "        COMMIT;\n",
                "    END TRY\n",
                "    BEGIN CATCH\n",
                "        --Output error message\n",
                "        PRINT 'Error Message ' + ERROR_MESSAGE();\n",
                "        --Rollback transaction\n",
                "        ROLLBACK;\n",
                "    END CATCH;"
            ],
            "metadata": {
                "language": "sql",
                "azdata_cell_guid": "b013d57d-15ea-4b35-99ae-30bd951642bb"
            },
            "outputs": [],
            "execution_count": null
        },
        {
            "cell_type": "markdown",
            "source": [
                "You may have noticed that not every singl eline ends with a semicolon. The only times that we use a semicolon is at the end of a complete statement. For example, a query like:\n",
                "\n",
                "> _UPDATE ap\\_airline SET airline\\_name = 'Super Duper Air' WHERE airline\\_id = 3_\n",
                "\n",
                "is a complete statement, so we would use a semi colon. We do not put a semicolon after something like BEGIN TRY because that is just the beginning of a statement. The end of that statement is END CATCH so we would put the semicolon after that. Examine the above query to better understand these patterns."
            ],
            "metadata": {
                "language": "sql",
                "azdata_cell_guid": "60c77fbd-e3ff-4e21-9e48-8e23354793ef"
            },
            "attachments": {}
        },
        {
            "cell_type": "markdown",
            "source": [
                "## **Exercises**\n",
                "\n",
                "For these exercises we will be using the Storage Unity database. If you have not already, I would strongly recommend having access to the ERD linked in Github for these exercises."
            ],
            "metadata": {
                "azdata_cell_guid": "773f3bef-918e-4178-9f3f-4cc57aca07b1"
            },
            "attachments": {}
        },
        {
            "cell_type": "markdown",
            "source": [
                "1\\. In the code cell below, write a transaction that:\n",
                "\n",
                "- Adds a new record to the unit table\n",
                "    - unit\\_id- 71\n",
                "    - unit\\_number- A71\n",
                "    - type\\_id- 3\n",
                "    - facility\\_id- 2\n",
                "    - status- occupied\n",
                "- Adds a new record to the rental table\n",
                "    - rental\\_id- 154\n",
                "    - unit\\_id- 71\n",
                "    - customer\\_id- 10\n",
                "    - start\\_date- 5/14/2024\n",
                "    - end\\_date- 5/13/2025\n",
                "    - payment\\_option- Y\n",
                "    - discount\\_amount- 0"
            ],
            "metadata": {
                "azdata_cell_guid": "c030431f-4744-42ea-895e-8bccbbf347a2"
            },
            "attachments": {}
        },
        {
            "cell_type": "code",
            "source": [
                "--Your code here\r\n",
                "BEGIN TRANSACTION;\r\n",
                "\r\n",
                "INSERT INTO su_unit (unit_id, unit_number, type_id, facility_id, status)\r\n",
                "VALUES (71, 'A71', 3, 2, 'occupied');\r\n",
                "\r\n",
                "INSERT INTO su_rental (rental_id, unit_id, customer_id, start_date, end_date, payment_option, discount_amount)\r\n",
                "VALUES (154, 71, 10, '2024-05-14', '2025-05-13', 'Y', 0);\r\n",
                "\r\n",
                "COMMIT TRANSACTION;\r\n",
                "\r\n",
                "\r\n",
                ""
            ],
            "metadata": {
                "azdata_cell_guid": "3de9c493-7151-4fd3-8344-4b14113bf8fb",
                "language": "sql"
            },
            "outputs": [
                {
                    "output_type": "display_data",
                    "data": {
                        "text/html": "(1 row affected)"
                    },
                    "metadata": {}
                },
                {
                    "output_type": "display_data",
                    "data": {
                        "text/html": "(1 row affected)"
                    },
                    "metadata": {}
                },
                {
                    "output_type": "display_data",
                    "data": {
                        "text/html": "Total execution time: 00:00:00.110"
                    },
                    "metadata": {}
                }
            ],
            "execution_count": 2
        },
        {
            "cell_type": "markdown",
            "source": [
                "2\\. In the below code cell, write a query that returns the price per year of the unit that was rented out in exercise 1. (No DML required, result should return a single value)"
            ],
            "metadata": {
                "language": "sql",
                "azdata_cell_guid": "9a3be9dd-ca35-41c4-88c1-04191c9f734a"
            },
            "attachments": {}
        },
        {
            "cell_type": "code",
            "source": [
                "--Your code here\r\n",
                "SELECT t.price_per_year\r\n",
                "FROM su_type t\r\n",
                "JOIN su_unit u ON t.type_id = u.type_id\r\n",
                "WHERE u.unit_id = 71;\r\n",
                ""
            ],
            "metadata": {
                "language": "sql",
                "azdata_cell_guid": "4a06e75f-81b5-48b2-a572-2d2ee9cb69e7"
            },
            "outputs": [
                {
                    "output_type": "display_data",
                    "data": {
                        "text/html": "(1 row affected)"
                    },
                    "metadata": {}
                },
                {
                    "output_type": "display_data",
                    "data": {
                        "text/html": "Total execution time: 00:00:00.088"
                    },
                    "metadata": {}
                },
                {
                    "output_type": "execute_result",
                    "metadata": {},
                    "execution_count": 3,
                    "data": {
                        "application/vnd.dataresource+json": {
                            "schema": {
                                "fields": [
                                    {
                                        "name": "price_per_year"
                                    }
                                ]
                            },
                            "data": [
                                {
                                    "price_per_year": "580.00"
                                }
                            ]
                        },
                        "text/html": [
                            "<table>",
                            "<tr><th>price_per_year</th></tr>",
                            "<tr><td>580.00</td></tr>",
                            "</table>"
                        ]
                    }
                }
            ],
            "execution_count": 3
        },
        {
            "cell_type": "markdown",
            "source": [
                "3\\. In the below code cell, write a transaction that:\n",
                "\n",
                "- Adds a record to the invoice table for the rental added in exercise 1\n",
                "    - <span style=\"color: var(--vscode-foreground); font-family: -apple-system, BlinkMacSystemFont, sans-serif;\">invoice_id- 201</span>\n",
                "    - <span style=\"color: var(--vscode-foreground); font-family: -apple-system, BlinkMacSystemFont, sans-serif;\">rental_id- 154</span>\n",
                "    - <span style=\"color: var(--vscode-foreground); font-family: -apple-system, BlinkMacSystemFont, sans-serif;\">amount- Use the query written in exercise 2 as a subquery to get this value</span>\n",
                "    - <span style=\"color: var(--vscode-foreground); font-family: -apple-system, BlinkMacSystemFont, sans-serif;\">invoice_date- 5/13/2025</span>\n",
                "- <span style=\"color: var(--vscode-foreground); font-family: -apple-system, BlinkMacSystemFont, sans-serif;\">Updates the status of unit 71 to be maintenance</span>"
            ],
            "metadata": {
                "language": "sql",
                "azdata_cell_guid": "4e129c42-a814-464b-b427-c3d15e74c64b"
            },
            "attachments": {}
        },
        {
            "cell_type": "code",
            "source": [
                "--Your code here\r\n",
                "BEGIN TRANSACTION;\r\n",
                "\r\n",
                "INSERT INTO su_invoice (invoice_id, rental_id, amount, invoice_date)\r\n",
                "VALUES (201, 154, (SELECT t.price_per_year\r\n",
                "                   FROM su_type t\r\n",
                "                   JOIN su_unit u ON t.type_id = u.type_id\r\n",
                "                   WHERE u.unit_id = 71), '2025-05-13');\r\n",
                "\r\n",
                "UPDATE su_unit\r\n",
                "SET status = 'maintenance'\r\n",
                "WHERE unit_id = 71;\r\n",
                "\r\n",
                "COMMIT TRANSACTION;\r\n",
                ""
            ],
            "metadata": {
                "language": "sql",
                "azdata_cell_guid": "766e2387-7cb5-48af-800e-4a94e8691a73"
            },
            "outputs": [],
            "execution_count": null
        },
        {
            "cell_type": "markdown",
            "source": [
                "4\\. In the below code cell, write a transaction that:\n",
                "\n",
                "- Adds a record to the payment table\n",
                "    - payment\\_id- Use a subquery to find the MAX of payment\\_id _and_ add 1.\n",
                "    - invoice\\_id- 201\n",
                "    - amount- Create a subquery that pulls the amount of the invoice for invoice #201\n",
                "    - payment\\_date- 5/15/2025\n",
                "    - payment\\_method- cash\n",
                "- Update the status of unit 71 to be available"
            ],
            "metadata": {
                "language": "sql",
                "azdata_cell_guid": "80e5fc14-8fbd-434c-9686-e8fe300e6795"
            },
            "attachments": {}
        },
        {
            "cell_type": "code",
            "source": [
                "--Your code here\r\n",
                "BEGIN TRANSACTION;\r\n",
                "\r\n",
                "INSERT INTO su_payment (payment_id, invoice_id, amount, payment_date, payment_method)\r\n",
                "VALUES (\r\n",
                "    (SELECT MAX(payment_id) + 1 FROM su_payment),\r\n",
                "    201, \r\n",
                "    (SELECT amount FROM su_invoice WHERE invoice_id = 201), \r\n",
                "    '2025-05-15', \r\n",
                "    'cash'\r\n",
                ");\r\n",
                "\r\n",
                "UPDATE su_unit\r\n",
                "SET status = 'available'\r\n",
                "WHERE unit_id = 71; \r\n",
                "\r\n",
                "COMMIT TRANSACTION;\r\n",
                ""
            ],
            "metadata": {
                "language": "sql",
                "azdata_cell_guid": "b2cc7dea-6d4f-4cf0-a4ce-813c824438b4"
            },
            "outputs": [
                {
                    "output_type": "error",
                    "evalue": "Msg 547, Level 16, State 0, Line 4\r\nThe INSERT statement conflicted with the FOREIGN KEY constraint \"FK__su_paymen__invoi__17F790F9\". The conflict occurred in database \"MS0885011\", table \"dbo.su_invoice\", column 'invoice_id'.",
                    "ename": "",
                    "traceback": []
                },
                {
                    "output_type": "display_data",
                    "data": {
                        "text/html": "The statement has been terminated."
                    },
                    "metadata": {}
                },
                {
                    "output_type": "display_data",
                    "data": {
                        "text/html": "(1 row affected)"
                    },
                    "metadata": {}
                },
                {
                    "output_type": "display_data",
                    "data": {
                        "text/html": "Total execution time: 00:00:01.009"
                    },
                    "metadata": {}
                }
            ],
            "execution_count": 5
        },
        {
            "cell_type": "markdown",
            "source": [
                "## **Scenario**\n",
                "\n",
                "The storage unit facility needs a SQL script that can do everything that we did above. The challenege will be to use subqueries to implement stronger automation. They way that our database works, a new record is always inserted with the highest ID for that table. Create a single transaction that accomplishes the following:\n",
                "\n",
                "- Add a record to the unit table\n",
                "    - <span style=\"font-family: -apple-system, BlinkMacSystemFont, sans-serif; color: var(--vscode-foreground);\">unit_id- (Max of unit_id + 1)</span>\n",
                "    - <span style=\"font-family: -apple-system, BlinkMacSystemFont, sans-serif; color: var(--vscode-foreground);\">unit_number- (Concatenate 'A' and (Max of unit_id +1))</span>\n",
                "        - <span style=\"font-family: -apple-system, BlinkMacSystemFont, sans-serif; color: var(--vscode-foreground);\">You may have to do a little research for this. Look into using CAST/CONVERT.</span>\n",
                "        - <span style=\"font-family: -apple-system, BlinkMacSystemFont, sans-serif; color: var(--vscode-foreground);\">I would try getting this to work in a simple SELECT query before trying it in your transaction</span>\n",
                "    - <span style=\"font-family: -apple-system, BlinkMacSystemFont, sans-serif; color: var(--vscode-foreground);\">type_id- 4</span>\n",
                "    - <span style=\"font-family: -apple-system, BlinkMacSystemFont, sans-serif; color: var(--vscode-foreground);\">facility_id- 3</span>\n",
                "    - <span style=\"font-family: -apple-system, BlinkMacSystemFont, sans-serif; color: var(--vscode-foreground);\">status- occupied</span>\n",
                "- Adds a new record to the rental table\n",
                "    - rental\\_id- (Max of rental\\_id + 1)\n",
                "    - unit\\_id- (Max of unit\\_id (do not add 1))\n",
                "    - customer\\_id- 15\n",
                "    - start\\_date- 6/14/2024\n",
                "    - end\\_date- 6/13/2025\n",
                "    - payment\\_option- Y\n",
                "    - discount\\_amount- 30\n",
                "- Adds a record to the invoice table for the new rental\n",
                "    - <span style=\"color: var(--vscode-foreground); font-family: -apple-system, BlinkMacSystemFont, sans-serif;\">invoice_id- (Max of invoice_id + 1)</span>\n",
                "    - <span style=\"color: var(--vscode-foreground); font-family: -apple-system, BlinkMacSystemFont, sans-serif;\">rental_id- (Max of rental_id (Do not add 1))<br></span>\n",
                "    - <span style=\"color: var(--vscode-foreground); font-family: -apple-system, BlinkMacSystemFont, sans-serif;\">amount- Use a subquery to pull the appropriate price for the unit and subtract the discount amount of the rental</span>\n",
                "    - invoice\\_date- 6/13/2025\n",
                "- <span style=\"color: var(--vscode-foreground); font-family: -apple-system, BlinkMacSystemFont, sans-serif;\">Updates the status of the unit to be maintenance</span>\n",
                "    - <span style=\"color: var(--vscode-foreground); font-family: -apple-system, BlinkMacSystemFont, sans-serif;\">unit id of the unit that needs updating will be Max of unit_id</span>\n",
                "- Adds a record to the payment table\n",
                "    - payment\\_id- payment\\_id + 1\n",
                "    - invoice\\_id- (Max of invoice\\_id (Do not add 1))\n",
                "    - amount- Create a subquery that pulls the amount of the invoice where invoice\\_id is the Max of invoice\\_id\n",
                "    - payment\\_date- 6/15/2025\n",
                "    - payment\\_method- debit\n",
                "- Update the status of the unit to be available\n",
                "\n",
                "This is a challenging transaction to write! I would recommend programing each individual DML query and then put them into a transaction style script. Before testing, make sure that you are using TRY/CATCH and implementing a ROLLBACK in your catch block so that changes don't stick if something is wrong.\n",
                "\n",
                "  \n",
                "\n",
                "If you need your database reset, please reach out! Also, don't forget that you can seek assistance in the Homework Help channel in Teams."
            ],
            "metadata": {
                "language": "sql",
                "azdata_cell_guid": "e76a300b-5bd7-4d87-942d-b4d9f69095c8"
            },
            "attachments": {}
        },
        {
            "cell_type": "code",
            "source": [
                "--Your code here\r\n",
                "BEGIN TRANSACTION;\r\n",
                "\r\n",
                "INSERT INTO su_unit (unit_id, unit_number, type_id, facility_id, status)\r\n",
                "VALUES (\r\n",
                "    (SELECT MAX(unit_id) + 1 FROM su_unit),\r\n",
                "    CONCAT('A', CAST((SELECT MAX(unit_id) + 1 FROM su_unit) AS VARCHAR(3))), \r\n",
                "    4,\r\n",
                "    3,\r\n",
                "    'occupied'\r\n",
                ");\r\n",
                "\r\n",
                "INSERT INTO su_rental (rental_id, unit_id, customer_id, start_date, end_date, payment_option, discount_amount)\r\n",
                "VALUES (\r\n",
                "    (SELECT MAX(rental_id) + 1 FROM su_rental),\r\n",
                "    (SELECT MAX(unit_id) FROM su_unit),\r\n",
                "    15,\r\n",
                "    '2024-06-14', \r\n",
                "    '2025-06-13',\r\n",
                "    'Y', \r\n",
                "    30 \r\n",
                ");\r\n",
                "\r\n",
                "INSERT INTO su_invoice (invoice_id, rental_id, amount, invoice_date)\r\n",
                "VALUES (\r\n",
                "    (SELECT MAX(invoice_id) + 1 FROM su_invoice),\r\n",
                "    (SELECT MAX(rental_id) FROM su_rental), \r\n",
                "    (SELECT t.price_per_year - r.discount_amount\r\n",
                "     FROM su_type t\r\n",
                "     JOIN su_unit u ON t.type_id = u.type_id\r\n",
                "     JOIN su_rental r ON u.unit_id = r.unit_id\r\n",
                "     WHERE u.unit_id = (SELECT MAX(unit_id) FROM su_unit)),\r\n",
                "    '2025-06-13'\r\n",
                ");\r\n",
                "\r\n",
                "UPDATE su_unit\r\n",
                "SET status = 'maintenance'\r\n",
                "WHERE unit_id = (SELECT MAX(unit_id) FROM su_unit);\r\n",
                "\r\n",
                "INSERT INTO su_payment (payment_id, invoice_id, amount, payment_date, payment_method)\r\n",
                "VALUES (\r\n",
                "    (SELECT MAX(payment_id) + 1 FROM su_payment),\r\n",
                "    (SELECT MAX(invoice_id) FROM su_invoice),\r\n",
                "    (SELECT amount FROM su_invoice WHERE invoice_id = (SELECT MAX(invoice_id) FROM su_invoice)),\r\n",
                "    '2025-06-15',\r\n",
                "    'debit'\r\n",
                ");\r\n",
                "\r\n",
                "UPDATE su_unit\r\n",
                "SET status = 'available'\r\n",
                "WHERE unit_id = (SELECT MAX(unit_id) FROM su_unit);\r\n",
                "\r\n",
                "COMMIT TRANSACTION;\r\n",
                ""
            ],
            "metadata": {
                "azdata_cell_guid": "e1f95dc4-9c70-4d5c-acb5-256fafed9fc2",
                "language": "sql"
            },
            "outputs": [
{
    "output_type": "display_data",
    "data": {
        "text/html": "(1 row affected)"
    },
    "metadata": {}
}, {
    "output_type": "display_data",
    "data": {
        "text/html": "(1 row affected)"
    },
    "metadata": {}
}, {
    "output_type": "display_data",
    "data": {
        "text/html": "(1 row affected)"
    },
    "metadata": {}
}, {
    "output_type": "display_data",
    "data": {
        "text/html": "(1 row affected)"
    },
    "metadata": {}
}, {
    "output_type": "display_data",
    "data": {
        "text/html": "(1 row affected)"
    },
    "metadata": {}
}, {
    "output_type": "display_data",
    "data": {
        "text/html": "(1 row affected)"
    },
    "metadata": {}
}, {
    "output_type": "display_data",
    "data": {
        "text/html": "Total execution time: 00:00:02.261"
    },
    "metadata": {}
}
],
            "execution_count": 6
        }
    ]
}